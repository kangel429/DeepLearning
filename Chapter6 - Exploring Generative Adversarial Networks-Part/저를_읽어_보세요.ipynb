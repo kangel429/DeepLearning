{
 "cells": [
  {
   "cell_type": "markdown",
   "metadata": {},
   "source": [
    "*pycharm 스크린샷을 원본 ipynb 파일에 올려 주시면 되고 그 파일에 코드 코멘트 하시면 됩니다.*\n",
    "\n",
    "*그리고 파일 경로에 'space' 넣으지 마세요. github 경로 못 찾게 돼요 ㅜㅜ. 대신 '_' 쓰면 됨*"
   ]
  },
  {
   "cell_type": "code",
   "execution_count": null,
   "metadata": {},
   "outputs": [],
   "source": []
  }
 ],
 "metadata": {
  "kernelspec": {
   "display_name": "Python 3",
   "language": "python",
   "name": "python3"
  },
  "language_info": {
   "codemirror_mode": {
    "name": "ipython",
    "version": 3
   },
   "file_extension": ".py",
   "mimetype": "text/x-python",
   "name": "python",
   "nbconvert_exporter": "python",
   "pygments_lexer": "ipython3",
   "version": "3.8.2"
  }
 },
 "nbformat": 4,
 "nbformat_minor": 4
}
